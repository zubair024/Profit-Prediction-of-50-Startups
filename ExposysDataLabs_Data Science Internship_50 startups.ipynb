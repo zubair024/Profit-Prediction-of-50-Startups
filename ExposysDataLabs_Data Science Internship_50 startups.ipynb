{
 "cells": [
  {
   "cell_type": "markdown",
   "id": "b25e0cf1",
   "metadata": {},
   "source": [
    "# Import the necessary modules "
   ]
  },
  {
   "cell_type": "code",
   "execution_count": 1,
   "id": "6dd53b40",
   "metadata": {},
   "outputs": [],
   "source": [
    "import numpy as np\n",
    "import pandas as pd\n",
    "import matplotlib.pyplot as plt\n",
    "import seaborn as sns\n",
    "%matplotlib inline"
   ]
  },
  {
   "cell_type": "code",
   "execution_count": 2,
   "id": "70e4c1bf",
   "metadata": {},
   "outputs": [],
   "source": [
    "df = pd.read_csv('50_Startups.csv') #reading the dataset csv file"
   ]
  },
  {
   "cell_type": "code",
   "execution_count": 3,
   "id": "fc7d7fc0",
   "metadata": {},
   "outputs": [
    {
     "data": {
      "text/html": [
       "<div>\n",
       "<style scoped>\n",
       "    .dataframe tbody tr th:only-of-type {\n",
       "        vertical-align: middle;\n",
       "    }\n",
       "\n",
       "    .dataframe tbody tr th {\n",
       "        vertical-align: top;\n",
       "    }\n",
       "\n",
       "    .dataframe thead th {\n",
       "        text-align: right;\n",
       "    }\n",
       "</style>\n",
       "<table border=\"1\" class=\"dataframe\">\n",
       "  <thead>\n",
       "    <tr style=\"text-align: right;\">\n",
       "      <th></th>\n",
       "      <th>R&amp;D Spend</th>\n",
       "      <th>Administration</th>\n",
       "      <th>Marketing Spend</th>\n",
       "      <th>Profit</th>\n",
       "    </tr>\n",
       "  </thead>\n",
       "  <tbody>\n",
       "    <tr>\n",
       "      <th>0</th>\n",
       "      <td>165349.20</td>\n",
       "      <td>136897.80</td>\n",
       "      <td>471784.10</td>\n",
       "      <td>192261.83</td>\n",
       "    </tr>\n",
       "    <tr>\n",
       "      <th>1</th>\n",
       "      <td>162597.70</td>\n",
       "      <td>151377.59</td>\n",
       "      <td>443898.53</td>\n",
       "      <td>191792.06</td>\n",
       "    </tr>\n",
       "    <tr>\n",
       "      <th>2</th>\n",
       "      <td>153441.51</td>\n",
       "      <td>101145.55</td>\n",
       "      <td>407934.54</td>\n",
       "      <td>191050.39</td>\n",
       "    </tr>\n",
       "    <tr>\n",
       "      <th>3</th>\n",
       "      <td>144372.41</td>\n",
       "      <td>118671.85</td>\n",
       "      <td>383199.62</td>\n",
       "      <td>182901.99</td>\n",
       "    </tr>\n",
       "    <tr>\n",
       "      <th>4</th>\n",
       "      <td>142107.34</td>\n",
       "      <td>91391.77</td>\n",
       "      <td>366168.42</td>\n",
       "      <td>166187.94</td>\n",
       "    </tr>\n",
       "  </tbody>\n",
       "</table>\n",
       "</div>"
      ],
      "text/plain": [
       "   R&D Spend  Administration  Marketing Spend     Profit\n",
       "0  165349.20       136897.80        471784.10  192261.83\n",
       "1  162597.70       151377.59        443898.53  191792.06\n",
       "2  153441.51       101145.55        407934.54  191050.39\n",
       "3  144372.41       118671.85        383199.62  182901.99\n",
       "4  142107.34        91391.77        366168.42  166187.94"
      ]
     },
     "execution_count": 3,
     "metadata": {},
     "output_type": "execute_result"
    }
   ],
   "source": [
    "df.head() #loading the head"
   ]
  },
  {
   "cell_type": "markdown",
   "id": "5c7e4595",
   "metadata": {},
   "source": [
    "# Statistical Analysis"
   ]
  },
  {
   "cell_type": "code",
   "execution_count": 4,
   "id": "7cd2267d",
   "metadata": {},
   "outputs": [
    {
     "name": "stdout",
     "output_type": "stream",
     "text": [
      "<class 'pandas.core.frame.DataFrame'>\n",
      "RangeIndex: 50 entries, 0 to 49\n",
      "Data columns (total 4 columns):\n",
      " #   Column           Non-Null Count  Dtype  \n",
      "---  ------           --------------  -----  \n",
      " 0   R&D Spend        50 non-null     float64\n",
      " 1   Administration   50 non-null     float64\n",
      " 2   Marketing Spend  50 non-null     float64\n",
      " 3   Profit           50 non-null     float64\n",
      "dtypes: float64(4)\n",
      "memory usage: 1.7 KB\n"
     ]
    }
   ],
   "source": [
    "df.info() #getting the data information"
   ]
  },
  {
   "cell_type": "code",
   "execution_count": 5,
   "id": "29492859",
   "metadata": {},
   "outputs": [
    {
     "data": {
      "text/html": [
       "<div>\n",
       "<style scoped>\n",
       "    .dataframe tbody tr th:only-of-type {\n",
       "        vertical-align: middle;\n",
       "    }\n",
       "\n",
       "    .dataframe tbody tr th {\n",
       "        vertical-align: top;\n",
       "    }\n",
       "\n",
       "    .dataframe thead th {\n",
       "        text-align: right;\n",
       "    }\n",
       "</style>\n",
       "<table border=\"1\" class=\"dataframe\">\n",
       "  <thead>\n",
       "    <tr style=\"text-align: right;\">\n",
       "      <th></th>\n",
       "      <th>R&amp;D Spend</th>\n",
       "      <th>Administration</th>\n",
       "      <th>Marketing Spend</th>\n",
       "      <th>Profit</th>\n",
       "    </tr>\n",
       "  </thead>\n",
       "  <tbody>\n",
       "    <tr>\n",
       "      <th>count</th>\n",
       "      <td>50.000000</td>\n",
       "      <td>50.000000</td>\n",
       "      <td>50.000000</td>\n",
       "      <td>50.000000</td>\n",
       "    </tr>\n",
       "    <tr>\n",
       "      <th>mean</th>\n",
       "      <td>73721.615600</td>\n",
       "      <td>121344.639600</td>\n",
       "      <td>211025.097800</td>\n",
       "      <td>112012.639200</td>\n",
       "    </tr>\n",
       "    <tr>\n",
       "      <th>std</th>\n",
       "      <td>45902.256482</td>\n",
       "      <td>28017.802755</td>\n",
       "      <td>122290.310726</td>\n",
       "      <td>40306.180338</td>\n",
       "    </tr>\n",
       "    <tr>\n",
       "      <th>min</th>\n",
       "      <td>0.000000</td>\n",
       "      <td>51283.140000</td>\n",
       "      <td>0.000000</td>\n",
       "      <td>14681.400000</td>\n",
       "    </tr>\n",
       "    <tr>\n",
       "      <th>25%</th>\n",
       "      <td>39936.370000</td>\n",
       "      <td>103730.875000</td>\n",
       "      <td>129300.132500</td>\n",
       "      <td>90138.902500</td>\n",
       "    </tr>\n",
       "    <tr>\n",
       "      <th>50%</th>\n",
       "      <td>73051.080000</td>\n",
       "      <td>122699.795000</td>\n",
       "      <td>212716.240000</td>\n",
       "      <td>107978.190000</td>\n",
       "    </tr>\n",
       "    <tr>\n",
       "      <th>75%</th>\n",
       "      <td>101602.800000</td>\n",
       "      <td>144842.180000</td>\n",
       "      <td>299469.085000</td>\n",
       "      <td>139765.977500</td>\n",
       "    </tr>\n",
       "    <tr>\n",
       "      <th>max</th>\n",
       "      <td>165349.200000</td>\n",
       "      <td>182645.560000</td>\n",
       "      <td>471784.100000</td>\n",
       "      <td>192261.830000</td>\n",
       "    </tr>\n",
       "  </tbody>\n",
       "</table>\n",
       "</div>"
      ],
      "text/plain": [
       "           R&D Spend  Administration  Marketing Spend         Profit\n",
       "count      50.000000       50.000000        50.000000      50.000000\n",
       "mean    73721.615600   121344.639600    211025.097800  112012.639200\n",
       "std     45902.256482    28017.802755    122290.310726   40306.180338\n",
       "min         0.000000    51283.140000         0.000000   14681.400000\n",
       "25%     39936.370000   103730.875000    129300.132500   90138.902500\n",
       "50%     73051.080000   122699.795000    212716.240000  107978.190000\n",
       "75%    101602.800000   144842.180000    299469.085000  139765.977500\n",
       "max    165349.200000   182645.560000    471784.100000  192261.830000"
      ]
     },
     "execution_count": 5,
     "metadata": {},
     "output_type": "execute_result"
    }
   ],
   "source": [
    "df.describe() #generating the statistical distribution"
   ]
  },
  {
   "cell_type": "code",
   "execution_count": 6,
   "id": "0e524294",
   "metadata": {},
   "outputs": [
    {
     "data": {
      "text/html": [
       "<div>\n",
       "<style scoped>\n",
       "    .dataframe tbody tr th:only-of-type {\n",
       "        vertical-align: middle;\n",
       "    }\n",
       "\n",
       "    .dataframe tbody tr th {\n",
       "        vertical-align: top;\n",
       "    }\n",
       "\n",
       "    .dataframe thead th {\n",
       "        text-align: right;\n",
       "    }\n",
       "</style>\n",
       "<table border=\"1\" class=\"dataframe\">\n",
       "  <thead>\n",
       "    <tr style=\"text-align: right;\">\n",
       "      <th></th>\n",
       "      <th>count</th>\n",
       "      <th>mean</th>\n",
       "      <th>std</th>\n",
       "      <th>min</th>\n",
       "      <th>25%</th>\n",
       "      <th>50%</th>\n",
       "      <th>75%</th>\n",
       "      <th>max</th>\n",
       "    </tr>\n",
       "  </thead>\n",
       "  <tbody>\n",
       "    <tr>\n",
       "      <th>R&amp;D Spend</th>\n",
       "      <td>50.0</td>\n",
       "      <td>73721.6156</td>\n",
       "      <td>45902.256482</td>\n",
       "      <td>0.00</td>\n",
       "      <td>39936.3700</td>\n",
       "      <td>73051.080</td>\n",
       "      <td>101602.8000</td>\n",
       "      <td>165349.20</td>\n",
       "    </tr>\n",
       "    <tr>\n",
       "      <th>Administration</th>\n",
       "      <td>50.0</td>\n",
       "      <td>121344.6396</td>\n",
       "      <td>28017.802755</td>\n",
       "      <td>51283.14</td>\n",
       "      <td>103730.8750</td>\n",
       "      <td>122699.795</td>\n",
       "      <td>144842.1800</td>\n",
       "      <td>182645.56</td>\n",
       "    </tr>\n",
       "    <tr>\n",
       "      <th>Marketing Spend</th>\n",
       "      <td>50.0</td>\n",
       "      <td>211025.0978</td>\n",
       "      <td>122290.310726</td>\n",
       "      <td>0.00</td>\n",
       "      <td>129300.1325</td>\n",
       "      <td>212716.240</td>\n",
       "      <td>299469.0850</td>\n",
       "      <td>471784.10</td>\n",
       "    </tr>\n",
       "    <tr>\n",
       "      <th>Profit</th>\n",
       "      <td>50.0</td>\n",
       "      <td>112012.6392</td>\n",
       "      <td>40306.180338</td>\n",
       "      <td>14681.40</td>\n",
       "      <td>90138.9025</td>\n",
       "      <td>107978.190</td>\n",
       "      <td>139765.9775</td>\n",
       "      <td>192261.83</td>\n",
       "    </tr>\n",
       "  </tbody>\n",
       "</table>\n",
       "</div>"
      ],
      "text/plain": [
       "                 count         mean            std       min          25%  \\\n",
       "R&D Spend         50.0   73721.6156   45902.256482      0.00   39936.3700   \n",
       "Administration    50.0  121344.6396   28017.802755  51283.14  103730.8750   \n",
       "Marketing Spend   50.0  211025.0978  122290.310726      0.00  129300.1325   \n",
       "Profit            50.0  112012.6392   40306.180338  14681.40   90138.9025   \n",
       "\n",
       "                        50%          75%        max  \n",
       "R&D Spend         73051.080  101602.8000  165349.20  \n",
       "Administration   122699.795  144842.1800  182645.56  \n",
       "Marketing Spend  212716.240  299469.0850  471784.10  \n",
       "Profit           107978.190  139765.9775  192261.83  "
      ]
     },
     "execution_count": 6,
     "metadata": {},
     "output_type": "execute_result"
    }
   ],
   "source": [
    "df.describe().transpose()"
   ]
  },
  {
   "cell_type": "code",
   "execution_count": 7,
   "id": "78a3424f",
   "metadata": {},
   "outputs": [
    {
     "data": {
      "text/plain": [
       "(50, 4)"
      ]
     },
     "execution_count": 7,
     "metadata": {},
     "output_type": "execute_result"
    }
   ],
   "source": [
    "df.shape #checking the shape of the dataframe"
   ]
  },
  {
   "cell_type": "code",
   "execution_count": 8,
   "id": "308bccdb",
   "metadata": {},
   "outputs": [
    {
     "data": {
      "text/plain": [
       "R&D Spend          0\n",
       "Administration     0\n",
       "Marketing Spend    0\n",
       "Profit             0\n",
       "dtype: int64"
      ]
     },
     "execution_count": 8,
     "metadata": {},
     "output_type": "execute_result"
    }
   ],
   "source": [
    "df.isnull().sum() #checking for missing values"
   ]
  },
  {
   "cell_type": "code",
   "execution_count": 9,
   "id": "cf5a00c8",
   "metadata": {},
   "outputs": [
    {
     "data": {
      "text/html": [
       "<div>\n",
       "<style scoped>\n",
       "    .dataframe tbody tr th:only-of-type {\n",
       "        vertical-align: middle;\n",
       "    }\n",
       "\n",
       "    .dataframe tbody tr th {\n",
       "        vertical-align: top;\n",
       "    }\n",
       "\n",
       "    .dataframe thead th {\n",
       "        text-align: right;\n",
       "    }\n",
       "</style>\n",
       "<table border=\"1\" class=\"dataframe\">\n",
       "  <thead>\n",
       "    <tr style=\"text-align: right;\">\n",
       "      <th></th>\n",
       "      <th>R&amp;D Spend</th>\n",
       "      <th>Administration</th>\n",
       "      <th>Marketing Spend</th>\n",
       "      <th>Profit</th>\n",
       "    </tr>\n",
       "  </thead>\n",
       "  <tbody>\n",
       "    <tr>\n",
       "      <th>R&amp;D Spend</th>\n",
       "      <td>1.000000</td>\n",
       "      <td>0.241955</td>\n",
       "      <td>0.724248</td>\n",
       "      <td>0.972900</td>\n",
       "    </tr>\n",
       "    <tr>\n",
       "      <th>Administration</th>\n",
       "      <td>0.241955</td>\n",
       "      <td>1.000000</td>\n",
       "      <td>-0.032154</td>\n",
       "      <td>0.200717</td>\n",
       "    </tr>\n",
       "    <tr>\n",
       "      <th>Marketing Spend</th>\n",
       "      <td>0.724248</td>\n",
       "      <td>-0.032154</td>\n",
       "      <td>1.000000</td>\n",
       "      <td>0.747766</td>\n",
       "    </tr>\n",
       "    <tr>\n",
       "      <th>Profit</th>\n",
       "      <td>0.972900</td>\n",
       "      <td>0.200717</td>\n",
       "      <td>0.747766</td>\n",
       "      <td>1.000000</td>\n",
       "    </tr>\n",
       "  </tbody>\n",
       "</table>\n",
       "</div>"
      ],
      "text/plain": [
       "                 R&D Spend  Administration  Marketing Spend    Profit\n",
       "R&D Spend         1.000000        0.241955         0.724248  0.972900\n",
       "Administration    0.241955        1.000000        -0.032154  0.200717\n",
       "Marketing Spend   0.724248       -0.032154         1.000000  0.747766\n",
       "Profit            0.972900        0.200717         0.747766  1.000000"
      ]
     },
     "execution_count": 9,
     "metadata": {},
     "output_type": "execute_result"
    }
   ],
   "source": [
    "df.corr() #checking the correlation for the numeric data in our dataset"
   ]
  },
  {
   "cell_type": "markdown",
   "id": "655976fe",
   "metadata": {},
   "source": [
    "# Exploratory Data Analysis"
   ]
  },
  {
   "cell_type": "code",
   "execution_count": 10,
   "id": "997b477b",
   "metadata": {},
   "outputs": [
    {
     "data": {
      "text/plain": [
       "<seaborn.axisgrid.PairGrid at 0x25af35082b0>"
      ]
     },
     "execution_count": 10,
     "metadata": {},
     "output_type": "execute_result"
    },
    {
     "data": {
      "image/png": "[encoded data removed]",
      "text/plain": [
       "<Figure size 720x720 with 20 Axes>"
      ]
     },
     "metadata": {
      "needs_background": "light"
     },
     "output_type": "display_data"
    }
   ],
   "source": [
    "sns.pairplot(df) #plotting a pairplot for the data"
   ]
  },
  {
   "cell_type": "markdown",
   "id": "0ab653b3",
   "metadata": {},
   "source": [
    "We can see that the R&D Spend and the profit have a linear relation. Let's create a jointplot and have a good look at it."
   ]
  },
  {
   "cell_type": "code",
   "execution_count": 11,
   "id": "b624b490",
   "metadata": {},
   "outputs": [
    {
     "data": {
      "text/plain": [
       "<seaborn.axisgrid.JointGrid at 0x25af914dc10>"
      ]
     },
     "execution_count": 11,
     "metadata": {},
     "output_type": "execute_result"
    },
    {
     "data": {
      "image/png": "[encoded data removed]",
      "text/plain": [
       "<Figure size 432x432 with 3 Axes>"
      ]
     },
     "metadata": {
      "needs_background": "light"
     },
     "output_type": "display_data"
    }
   ],
   "source": [
    "sns.jointplot(x = 'R&D Spend', y = 'Profit', data = df)"
   ]
  },
  {
   "cell_type": "code",
   "execution_count": 12,
   "id": "3542ce89",
   "metadata": {},
   "outputs": [
    {
     "data": {
      "text/plain": [
       "<AxesSubplot:>"
      ]
     },
     "execution_count": 12,
     "metadata": {},
     "output_type": "execute_result"
    },
    {
     "data": {
      "image/png": "[encoded data removed]",
      "text/plain": [
       "<Figure size 432x288 with 2 Axes>"
      ]
     },
     "metadata": {
      "needs_background": "light"
     },
     "output_type": "display_data"
    }
   ],
   "source": [
    "sns.heatmap(df.corr(), annot = True, cmap = 'viridis') #creating a heatmap for correlation matrix to see for the trends"
   ]
  },
  {
   "cell_type": "markdown",
   "id": "4f43a104",
   "metadata": {},
   "source": [
    "# Machine Learning Section"
   ]
  },
  {
   "cell_type": "markdown",
   "id": "7d2ea27a",
   "metadata": {},
   "source": [
    "# Train Test Split"
   ]
  },
  {
   "cell_type": "code",
   "execution_count": 13,
   "id": "6c33782b",
   "metadata": {},
   "outputs": [],
   "source": [
    "#Splitting the data into two variables x and y where x is our feature variable and y is target variable\n",
    "X = df.drop('Profit', axis = 1)\n",
    "y = df['Profit']"
   ]
  },
  {
   "cell_type": "code",
   "execution_count": 14,
   "id": "3aebde53",
   "metadata": {},
   "outputs": [],
   "source": [
    "from sklearn.model_selection import train_test_split"
   ]
  },
  {
   "cell_type": "code",
   "execution_count": 15,
   "id": "1a91b984",
   "metadata": {},
   "outputs": [],
   "source": [
    " X_train, X_test, y_train, y_test = train_test_split(X, y, test_size=0.2, random_state=101)"
   ]
  },
  {
   "cell_type": "markdown",
   "id": "1a999def",
   "metadata": {},
   "source": [
    "# Multiple Linear Regression Model"
   ]
  },
  {
   "cell_type": "code",
   "execution_count": 16,
   "id": "5ef3433a",
   "metadata": {},
   "outputs": [],
   "source": [
    "from sklearn.linear_model import LinearRegression"
   ]
  },
  {
   "cell_type": "code",
   "execution_count": 17,
   "id": "a89f63e0",
   "metadata": {},
   "outputs": [],
   "source": [
    "model = LinearRegression() #instantiating the lr model"
   ]
  },
  {
   "cell_type": "code",
   "execution_count": 18,
   "id": "b2002424",
   "metadata": {},
   "outputs": [
    {
     "data": {
      "text/plain": [
       "LinearRegression()"
      ]
     },
     "execution_count": 18,
     "metadata": {},
     "output_type": "execute_result"
    }
   ],
   "source": [
    "model.fit(X_train, y_train) #fitting our model on the training data"
   ]
  },
  {
   "cell_type": "code",
   "execution_count": 19,
   "id": "16bcade4",
   "metadata": {},
   "outputs": [
    {
     "name": "stdout",
     "output_type": "stream",
     "text": [
      "45925.62709663721\n"
     ]
    }
   ],
   "source": [
    "print(model.intercept_) #printing the model intercept"
   ]
  },
  {
   "cell_type": "code",
   "execution_count": 20,
   "id": "fca13523",
   "metadata": {},
   "outputs": [
    {
     "name": "stdout",
     "output_type": "stream",
     "text": [
      "[0.7799469  0.0174003  0.03602112]\n"
     ]
    }
   ],
   "source": [
    "print(model.coef_) #printing the model coefficient"
   ]
  },
  {
   "cell_type": "code",
   "execution_count": 21,
   "id": "9dc38bb6",
   "metadata": {},
   "outputs": [],
   "source": [
    "predictions = model.predict(X_test) #predicting the test data"
   ]
  },
  {
   "cell_type": "code",
   "execution_count": 22,
   "id": "52f83e99",
   "metadata": {},
   "outputs": [],
   "source": [
    "arr = np.array(y_test) #converting the actual values to a numpy array"
   ]
  },
  {
   "cell_type": "code",
   "execution_count": 23,
   "id": "cdc6b14e",
   "metadata": {},
   "outputs": [
    {
     "data": {
      "text/plain": [
       "array([ 89949.14, 132602.65, 111313.02,  97427.84, 110352.25, 191792.06,\n",
       "       105733.54,  49490.75,  71498.49,  42559.73])"
      ]
     },
     "execution_count": 23,
     "metadata": {},
     "output_type": "execute_result"
    }
   ],
   "source": [
    "arr"
   ]
  },
  {
   "cell_type": "code",
   "execution_count": 24,
   "id": "aacc8185",
   "metadata": {},
   "outputs": [
    {
     "data": {
      "text/plain": [
       "array([ 88287.41062646, 151438.84017595, 120537.82823503,  99289.67306481,\n",
       "       116699.81127514, 191366.93722057, 112014.78869329,  59669.24898719,\n",
       "        71369.19151394,  48282.09608943])"
      ]
     },
     "execution_count": 24,
     "metadata": {},
     "output_type": "execute_result"
    }
   ],
   "source": [
    "predictions"
   ]
  },
  {
   "cell_type": "code",
   "execution_count": 25,
   "id": "89553e0c",
   "metadata": {},
   "outputs": [
    {
     "data": {
      "text/plain": [
       "<matplotlib.collections.PathCollection at 0x25af9e927f0>"
      ]
     },
     "execution_count": 25,
     "metadata": {},
     "output_type": "execute_result"
    },
    {
     "data": {
      "image/png": "[encoded data removed]",
      "text/plain": [
       "<Figure size 432x288 with 1 Axes>"
      ]
     },
     "metadata": {
      "needs_background": "light"
     },
     "output_type": "display_data"
    }
   ],
   "source": [
    "plt.scatter(y_test, predictions) #plotting the actual values vs predicted values"
   ]
  },
  {
   "cell_type": "markdown",
   "id": "892d1613",
   "metadata": {},
   "source": [
    "The graph looks quite promising with a linear orientation. "
   ]
  },
  {
   "cell_type": "code",
   "execution_count": 26,
   "id": "c32f2f88",
   "metadata": {},
   "outputs": [],
   "source": [
    "#creating a dataframe to display the predicted profit values by ml algorithm and the actual values in our dataset\n",
    "data = pd.DataFrame(data={\"Predicted Profit\": predictions.flatten(), 'Actual Value':arr.flatten()})"
   ]
  },
  {
   "cell_type": "code",
   "execution_count": 27,
   "id": "d2af96e6",
   "metadata": {},
   "outputs": [
    {
     "data": {
      "text/html": [
       "<div>\n",
       "<style scoped>\n",
       "    .dataframe tbody tr th:only-of-type {\n",
       "        vertical-align: middle;\n",
       "    }\n",
       "\n",
       "    .dataframe tbody tr th {\n",
       "        vertical-align: top;\n",
       "    }\n",
       "\n",
       "    .dataframe thead th {\n",
       "        text-align: right;\n",
       "    }\n",
       "</style>\n",
       "<table border=\"1\" class=\"dataframe\">\n",
       "  <thead>\n",
       "    <tr style=\"text-align: right;\">\n",
       "      <th></th>\n",
       "      <th>Predicted Profit</th>\n",
       "      <th>Actual Value</th>\n",
       "    </tr>\n",
       "  </thead>\n",
       "  <tbody>\n",
       "    <tr>\n",
       "      <th>0</th>\n",
       "      <td>88287.410626</td>\n",
       "      <td>89949.14</td>\n",
       "    </tr>\n",
       "    <tr>\n",
       "      <th>1</th>\n",
       "      <td>151438.840176</td>\n",
       "      <td>132602.65</td>\n",
       "    </tr>\n",
       "    <tr>\n",
       "      <th>2</th>\n",
       "      <td>120537.828235</td>\n",
       "      <td>111313.02</td>\n",
       "    </tr>\n",
       "    <tr>\n",
       "      <th>3</th>\n",
       "      <td>99289.673065</td>\n",
       "      <td>97427.84</td>\n",
       "    </tr>\n",
       "    <tr>\n",
       "      <th>4</th>\n",
       "      <td>116699.811275</td>\n",
       "      <td>110352.25</td>\n",
       "    </tr>\n",
       "    <tr>\n",
       "      <th>5</th>\n",
       "      <td>191366.937221</td>\n",
       "      <td>191792.06</td>\n",
       "    </tr>\n",
       "    <tr>\n",
       "      <th>6</th>\n",
       "      <td>112014.788693</td>\n",
       "      <td>105733.54</td>\n",
       "    </tr>\n",
       "    <tr>\n",
       "      <th>7</th>\n",
       "      <td>59669.248987</td>\n",
       "      <td>49490.75</td>\n",
       "    </tr>\n",
       "    <tr>\n",
       "      <th>8</th>\n",
       "      <td>71369.191514</td>\n",
       "      <td>71498.49</td>\n",
       "    </tr>\n",
       "    <tr>\n",
       "      <th>9</th>\n",
       "      <td>48282.096089</td>\n",
       "      <td>42559.73</td>\n",
       "    </tr>\n",
       "  </tbody>\n",
       "</table>\n",
       "</div>"
      ],
      "text/plain": [
       "   Predicted Profit  Actual Value\n",
       "0      88287.410626      89949.14\n",
       "1     151438.840176     132602.65\n",
       "2     120537.828235     111313.02\n",
       "3      99289.673065      97427.84\n",
       "4     116699.811275     110352.25\n",
       "5     191366.937221     191792.06\n",
       "6     112014.788693     105733.54\n",
       "7      59669.248987      49490.75\n",
       "8      71369.191514      71498.49\n",
       "9      48282.096089      42559.73"
      ]
     },
     "execution_count": 27,
     "metadata": {},
     "output_type": "execute_result"
    }
   ],
   "source": [
    "data"
   ]
  },
  {
   "cell_type": "code",
   "execution_count": 28,
   "id": "ab7f6dfb",
   "metadata": {},
   "outputs": [],
   "source": [
    "from sklearn import metrics #importing the metrics module from sklearn library"
   ]
  },
  {
   "cell_type": "code",
   "execution_count": 29,
   "id": "3aaf0580",
   "metadata": {},
   "outputs": [
    {
     "data": {
      "text/plain": [
       "100271.947"
      ]
     },
     "execution_count": 29,
     "metadata": {},
     "output_type": "execute_result"
    }
   ],
   "source": [
    "np.mean(arr)"
   ]
  },
  {
   "cell_type": "code",
   "execution_count": 30,
   "id": "e61a2561",
   "metadata": {},
   "outputs": [
    {
     "name": "stdout",
     "output_type": "stream",
     "text": [
      "The regression metrics for LINEAR REGRESSION model are: \n",
      "\n",
      "\n",
      "MAE: 6066.865715986149\n",
      "MSE: 66241729.62479826\n",
      "RMSE: 8138.902237083221\n"
     ]
    }
   ],
   "source": [
    "print('The regression metrics for LINEAR REGRESSION model are: ')\n",
    "print('\\n')\n",
    "print('MAE:', metrics.mean_absolute_error(arr, predictions))\n",
    "print('MSE:', metrics.mean_squared_error(arr, predictions))\n",
    "print('RMSE:', np.sqrt(metrics.mean_squared_error(arr, predictions)))"
   ]
  },
  {
   "cell_type": "markdown",
   "id": "a3930186",
   "metadata": {},
   "source": [
    "# Decision Tree Regression Model"
   ]
  },
  {
   "cell_type": "code",
   "execution_count": 31,
   "id": "cea92753",
   "metadata": {},
   "outputs": [],
   "source": [
    "from sklearn.tree import DecisionTreeRegressor #importing the decision tree regressor module from sklearn library"
   ]
  },
  {
   "cell_type": "code",
   "execution_count": 32,
   "id": "f47f6d2b",
   "metadata": {},
   "outputs": [],
   "source": [
    "regressor = DecisionTreeRegressor() #instantiating the decision tree regressor model"
   ]
  },
  {
   "cell_type": "code",
   "execution_count": 33,
   "id": "34cc41a6",
   "metadata": {},
   "outputs": [
    {
     "data": {
      "text/plain": [
       "DecisionTreeRegressor()"
      ]
     },
     "execution_count": 33,
     "metadata": {},
     "output_type": "execute_result"
    }
   ],
   "source": [
    "regressor.fit(X_train, y_train) #fitting the model on our training data"
   ]
  },
  {
   "cell_type": "code",
   "execution_count": 34,
   "id": "85e74092",
   "metadata": {},
   "outputs": [],
   "source": [
    "predictions_reg = regressor.predict(X_test) #predicting the model against the test data "
   ]
  },
  {
   "cell_type": "code",
   "execution_count": 35,
   "id": "d009fc9c",
   "metadata": {},
   "outputs": [
    {
     "data": {
      "text/plain": [
       "array([ 96479.51, 152211.77, 126992.93,  69758.98, 105008.31, 192261.83,\n",
       "       107404.34,  90708.19,  77798.83,  14681.4 ])"
      ]
     },
     "execution_count": 35,
     "metadata": {},
     "output_type": "execute_result"
    }
   ],
   "source": [
    "predictions_reg"
   ]
  },
  {
   "cell_type": "code",
   "execution_count": 36,
   "id": "ba9c9c89",
   "metadata": {},
   "outputs": [
    {
     "data": {
      "text/plain": [
       "<matplotlib.collections.PathCollection at 0x25afa0558e0>"
      ]
     },
     "execution_count": 36,
     "metadata": {},
     "output_type": "execute_result"
    },
    {
     "data": {
      "image/png": "[encoded data removed]",
      "text/plain": [
       "<Figure size 432x288 with 1 Axes>"
      ]
     },
     "metadata": {
      "needs_background": "light"
     },
     "output_type": "display_data"
    }
   ],
   "source": [
    "plt.scatter(y_test, predictions_reg) #plotting the actual values vs predicted values"
   ]
  },
  {
   "cell_type": "markdown",
   "id": "fedfa788",
   "metadata": {},
   "source": [
    "The graph doesn't really have a linear orientation."
   ]
  },
  {
   "cell_type": "code",
   "execution_count": 37,
   "id": "d5ff0c78",
   "metadata": {},
   "outputs": [],
   "source": [
    "#creating a dataframe to display the predicted profit values by ml algorithm and the actual values in our dataset\n",
    "data_reg = pd.DataFrame(data={\"Predicted Profit\": predictions_reg.flatten(), 'Actual Value':arr.flatten()})"
   ]
  },
  {
   "cell_type": "code",
   "execution_count": 38,
   "id": "0264db93",
   "metadata": {},
   "outputs": [
    {
     "data": {
      "text/html": [
       "<div>\n",
       "<style scoped>\n",
       "    .dataframe tbody tr th:only-of-type {\n",
       "        vertical-align: middle;\n",
       "    }\n",
       "\n",
       "    .dataframe tbody tr th {\n",
       "        vertical-align: top;\n",
       "    }\n",
       "\n",
       "    .dataframe thead th {\n",
       "        text-align: right;\n",
       "    }\n",
       "</style>\n",
       "<table border=\"1\" class=\"dataframe\">\n",
       "  <thead>\n",
       "    <tr style=\"text-align: right;\">\n",
       "      <th></th>\n",
       "      <th>Predicted Profit</th>\n",
       "      <th>Actual Value</th>\n",
       "    </tr>\n",
       "  </thead>\n",
       "  <tbody>\n",
       "    <tr>\n",
       "      <th>0</th>\n",
       "      <td>96479.51</td>\n",
       "      <td>89949.14</td>\n",
       "    </tr>\n",
       "    <tr>\n",
       "      <th>1</th>\n",
       "      <td>152211.77</td>\n",
       "      <td>132602.65</td>\n",
       "    </tr>\n",
       "    <tr>\n",
       "      <th>2</th>\n",
       "      <td>126992.93</td>\n",
       "      <td>111313.02</td>\n",
       "    </tr>\n",
       "    <tr>\n",
       "      <th>3</th>\n",
       "      <td>69758.98</td>\n",
       "      <td>97427.84</td>\n",
       "    </tr>\n",
       "    <tr>\n",
       "      <th>4</th>\n",
       "      <td>105008.31</td>\n",
       "      <td>110352.25</td>\n",
       "    </tr>\n",
       "    <tr>\n",
       "      <th>5</th>\n",
       "      <td>192261.83</td>\n",
       "      <td>191792.06</td>\n",
       "    </tr>\n",
       "    <tr>\n",
       "      <th>6</th>\n",
       "      <td>107404.34</td>\n",
       "      <td>105733.54</td>\n",
       "    </tr>\n",
       "    <tr>\n",
       "      <th>7</th>\n",
       "      <td>90708.19</td>\n",
       "      <td>49490.75</td>\n",
       "    </tr>\n",
       "    <tr>\n",
       "      <th>8</th>\n",
       "      <td>77798.83</td>\n",
       "      <td>71498.49</td>\n",
       "    </tr>\n",
       "    <tr>\n",
       "      <th>9</th>\n",
       "      <td>14681.40</td>\n",
       "      <td>42559.73</td>\n",
       "    </tr>\n",
       "  </tbody>\n",
       "</table>\n",
       "</div>"
      ],
      "text/plain": [
       "   Predicted Profit  Actual Value\n",
       "0          96479.51      89949.14\n",
       "1         152211.77     132602.65\n",
       "2         126992.93     111313.02\n",
       "3          69758.98      97427.84\n",
       "4         105008.31     110352.25\n",
       "5         192261.83     191792.06\n",
       "6         107404.34     105733.54\n",
       "7          90708.19      49490.75\n",
       "8          77798.83      71498.49\n",
       "9          14681.40      42559.73"
      ]
     },
     "execution_count": 38,
     "metadata": {},
     "output_type": "execute_result"
    }
   ],
   "source": [
    "data_reg"
   ]
  },
  {
   "cell_type": "code",
   "execution_count": 39,
   "id": "831b42cb",
   "metadata": {},
   "outputs": [
    {
     "name": "stdout",
     "output_type": "stream",
     "text": [
      "MAE: 15236.887999999997\n",
      "MSE: 398593158.98936\n",
      "RMSE: 19964.79799520546\n"
     ]
    }
   ],
   "source": [
    "print('MAE:', metrics.mean_absolute_error(arr, predictions_reg))\n",
    "print('MSE:', metrics.mean_squared_error(arr, predictions_reg))\n",
    "print('RMSE:', np.sqrt(metrics.mean_squared_error(arr, predictions_reg)))"
   ]
  },
  {
   "cell_type": "markdown",
   "id": "7dc45612",
   "metadata": {},
   "source": [
    "# Random Forest Regression Model"
   ]
  },
  {
   "cell_type": "code",
   "execution_count": 40,
   "id": "9008cc1e",
   "metadata": {},
   "outputs": [],
   "source": [
    "from sklearn.ensemble import RandomForestRegressor #importing the Random Forest regressor module from sklearn library"
   ]
  },
  {
   "cell_type": "code",
   "execution_count": 41,
   "id": "5e2e7b1a",
   "metadata": {},
   "outputs": [],
   "source": [
    "rfr = RandomForestRegressor(n_estimators= 200) #instantiating the random forest regressor model"
   ]
  },
  {
   "cell_type": "code",
   "execution_count": 42,
   "id": "b6cc56b5",
   "metadata": {},
   "outputs": [
    {
     "data": {
      "text/plain": [
       "RandomForestRegressor(n_estimators=200)"
      ]
     },
     "execution_count": 42,
     "metadata": {},
     "output_type": "execute_result"
    }
   ],
   "source": [
    "rfr.fit(X_train, y_train) #fitting the model on our training data"
   ]
  },
  {
   "cell_type": "code",
   "execution_count": 43,
   "id": "4929606e",
   "metadata": {},
   "outputs": [],
   "source": [
    "predictions_rfr = rfr.predict(X_test) #predicting the model against the test data "
   ]
  },
  {
   "cell_type": "code",
   "execution_count": 44,
   "id": "cfe40871",
   "metadata": {},
   "outputs": [
    {
     "data": {
      "text/plain": [
       "<matplotlib.collections.PathCollection at 0x25afa149a30>"
      ]
     },
     "execution_count": 44,
     "metadata": {},
     "output_type": "execute_result"
    },
    {
     "data": {
      "image/png": "[encoded data removed]",
      "text/plain": [
       "<Figure size 432x288 with 1 Axes>"
      ]
     },
     "metadata": {
      "needs_background": "light"
     },
     "output_type": "display_data"
    }
   ],
   "source": [
    "plt.scatter(y_test, predictions_rfr) #plotting the actual values vs predicted values"
   ]
  },
  {
   "cell_type": "markdown",
   "id": "6b23fcd7",
   "metadata": {},
   "source": [
    "The graph does have a linear orientation."
   ]
  },
  {
   "cell_type": "code",
   "execution_count": 45,
   "id": "a84d593e",
   "metadata": {},
   "outputs": [],
   "source": [
    "#creating a dataframe to display the predicted profit values by ml algorithm and the actual values in our dataset\n",
    "data_rfr = pd.DataFrame(data={\"Predicted Profit\": predictions_rfr.flatten(), 'Actual Value':arr.flatten()})"
   ]
  },
  {
   "cell_type": "code",
   "execution_count": 46,
   "id": "96e19449",
   "metadata": {},
   "outputs": [
    {
     "data": {
      "text/html": [
       "<div>\n",
       "<style scoped>\n",
       "    .dataframe tbody tr th:only-of-type {\n",
       "        vertical-align: middle;\n",
       "    }\n",
       "\n",
       "    .dataframe tbody tr th {\n",
       "        vertical-align: top;\n",
       "    }\n",
       "\n",
       "    .dataframe thead th {\n",
       "        text-align: right;\n",
       "    }\n",
       "</style>\n",
       "<table border=\"1\" class=\"dataframe\">\n",
       "  <thead>\n",
       "    <tr style=\"text-align: right;\">\n",
       "      <th></th>\n",
       "      <th>Predicted Profit</th>\n",
       "      <th>Actual Value</th>\n",
       "    </tr>\n",
       "  </thead>\n",
       "  <tbody>\n",
       "    <tr>\n",
       "      <th>0</th>\n",
       "      <td>95311.31920</td>\n",
       "      <td>89949.14</td>\n",
       "    </tr>\n",
       "    <tr>\n",
       "      <th>1</th>\n",
       "      <td>145507.92995</td>\n",
       "      <td>132602.65</td>\n",
       "    </tr>\n",
       "    <tr>\n",
       "      <th>2</th>\n",
       "      <td>121712.84275</td>\n",
       "      <td>111313.02</td>\n",
       "    </tr>\n",
       "    <tr>\n",
       "      <th>3</th>\n",
       "      <td>97188.16545</td>\n",
       "      <td>97427.84</td>\n",
       "    </tr>\n",
       "    <tr>\n",
       "      <th>4</th>\n",
       "      <td>110462.49990</td>\n",
       "      <td>110352.25</td>\n",
       "    </tr>\n",
       "    <tr>\n",
       "      <th>5</th>\n",
       "      <td>189139.59510</td>\n",
       "      <td>191792.06</td>\n",
       "    </tr>\n",
       "    <tr>\n",
       "      <th>6</th>\n",
       "      <td>117650.99440</td>\n",
       "      <td>105733.54</td>\n",
       "    </tr>\n",
       "    <tr>\n",
       "      <th>7</th>\n",
       "      <td>63607.28895</td>\n",
       "      <td>49490.75</td>\n",
       "    </tr>\n",
       "    <tr>\n",
       "      <th>8</th>\n",
       "      <td>77256.09070</td>\n",
       "      <td>71498.49</td>\n",
       "    </tr>\n",
       "    <tr>\n",
       "      <th>9</th>\n",
       "      <td>33327.09230</td>\n",
       "      <td>42559.73</td>\n",
       "    </tr>\n",
       "  </tbody>\n",
       "</table>\n",
       "</div>"
      ],
      "text/plain": [
       "   Predicted Profit  Actual Value\n",
       "0       95311.31920      89949.14\n",
       "1      145507.92995     132602.65\n",
       "2      121712.84275     111313.02\n",
       "3       97188.16545      97427.84\n",
       "4      110462.49990     110352.25\n",
       "5      189139.59510     191792.06\n",
       "6      117650.99440     105733.54\n",
       "7       63607.28895      49490.75\n",
       "8       77256.09070      71498.49\n",
       "9       33327.09230      42559.73"
      ]
     },
     "execution_count": 46,
     "metadata": {},
     "output_type": "execute_result"
    }
   ],
   "source": [
    "data_rfr"
   ]
  },
  {
   "cell_type": "code",
   "execution_count": 47,
   "id": "98762ec1",
   "metadata": {},
   "outputs": [
    {
     "name": "stdout",
     "output_type": "stream",
     "text": [
      "MAE: 7269.390300000023\n",
      "MSE: 77025465.45913474\n",
      "RMSE: 8776.415296642173\n"
     ]
    }
   ],
   "source": [
    "print('MAE:', metrics.mean_absolute_error(arr, predictions_rfr))\n",
    "print('MSE:', metrics.mean_squared_error(arr, predictions_rfr))\n",
    "print('RMSE:', np.sqrt(metrics.mean_squared_error(arr, predictions_rfr)))"
   ]
  },
  {
   "cell_type": "markdown",
   "id": "e9f712c5",
   "metadata": {},
   "source": [
    "# Support Vector Regression Model"
   ]
  },
  {
   "cell_type": "code",
   "execution_count": 48,
   "id": "1e3435d5",
   "metadata": {},
   "outputs": [],
   "source": [
    "from sklearn.svm import SVR #importing the Support vector machine regressor module from sklearn library"
   ]
  },
  {
   "cell_type": "code",
   "execution_count": 49,
   "id": "c9e59736",
   "metadata": {},
   "outputs": [],
   "source": [
    "svr = SVR() #instantiating the support vector regressor model"
   ]
  },
  {
   "cell_type": "code",
   "execution_count": 50,
   "id": "611f3a93",
   "metadata": {},
   "outputs": [
    {
     "data": {
      "text/plain": [
       "SVR()"
      ]
     },
     "execution_count": 50,
     "metadata": {},
     "output_type": "execute_result"
    }
   ],
   "source": [
    "svr.fit(X_train, y_train) #fitting the model on our training data"
   ]
  },
  {
   "cell_type": "code",
   "execution_count": 51,
   "id": "7d1fc225",
   "metadata": {},
   "outputs": [],
   "source": [
    "predictions_svr = svr.predict(X_test) #predicting the model against the test data "
   ]
  },
  {
   "cell_type": "code",
   "execution_count": 52,
   "id": "6001fa9a",
   "metadata": {},
   "outputs": [
    {
     "data": {
      "text/plain": [
       "<matplotlib.collections.PathCollection at 0x25afa1abeb0>"
      ]
     },
     "execution_count": 52,
     "metadata": {},
     "output_type": "execute_result"
    },
    {
     "data": {
      "image/png": "[encoded data removed]",
      "text/plain": [
       "<Figure size 432x288 with 1 Axes>"
      ]
     },
     "metadata": {
      "needs_background": "light"
     },
     "output_type": "display_data"
    }
   ],
   "source": [
    "plt.scatter(y_test, predictions_svr) #plotting the actual values vs predicted values"
   ]
  },
  {
   "cell_type": "markdown",
   "id": "ece4277d",
   "metadata": {},
   "source": [
    "The graph doesn't have any hint of linear orientation."
   ]
  },
  {
   "cell_type": "code",
   "execution_count": 53,
   "id": "5dc3dce7",
   "metadata": {},
   "outputs": [],
   "source": [
    "#creating a dataframe to display the predicted profit values by ml algorithm and the actual values in our dataset\n",
    "data_rfr = pd.DataFrame(data={\"Predicted Profit\": predictions_svr.flatten(), 'Actual Value':arr.flatten()})"
   ]
  },
  {
   "cell_type": "code",
   "execution_count": 54,
   "id": "70563662",
   "metadata": {},
   "outputs": [
    {
     "data": {
      "text/html": [
       "<div>\n",
       "<style scoped>\n",
       "    .dataframe tbody tr th:only-of-type {\n",
       "        vertical-align: middle;\n",
       "    }\n",
       "\n",
       "    .dataframe tbody tr th {\n",
       "        vertical-align: top;\n",
       "    }\n",
       "\n",
       "    .dataframe thead th {\n",
       "        text-align: right;\n",
       "    }\n",
       "</style>\n",
       "<table border=\"1\" class=\"dataframe\">\n",
       "  <thead>\n",
       "    <tr style=\"text-align: right;\">\n",
       "      <th></th>\n",
       "      <th>Predicted Profit</th>\n",
       "      <th>Actual Value</th>\n",
       "    </tr>\n",
       "  </thead>\n",
       "  <tbody>\n",
       "    <tr>\n",
       "      <th>0</th>\n",
       "      <td>108639.428004</td>\n",
       "      <td>89949.14</td>\n",
       "    </tr>\n",
       "    <tr>\n",
       "      <th>1</th>\n",
       "      <td>108648.733685</td>\n",
       "      <td>132602.65</td>\n",
       "    </tr>\n",
       "    <tr>\n",
       "      <th>2</th>\n",
       "      <td>108650.146601</td>\n",
       "      <td>111313.02</td>\n",
       "    </tr>\n",
       "    <tr>\n",
       "      <th>3</th>\n",
       "      <td>108633.596983</td>\n",
       "      <td>97427.84</td>\n",
       "    </tr>\n",
       "    <tr>\n",
       "      <th>4</th>\n",
       "      <td>108650.391750</td>\n",
       "      <td>110352.25</td>\n",
       "    </tr>\n",
       "    <tr>\n",
       "      <th>5</th>\n",
       "      <td>108649.592382</td>\n",
       "      <td>191792.06</td>\n",
       "    </tr>\n",
       "    <tr>\n",
       "      <th>6</th>\n",
       "      <td>108635.665146</td>\n",
       "      <td>105733.54</td>\n",
       "    </tr>\n",
       "    <tr>\n",
       "      <th>7</th>\n",
       "      <td>108645.717265</td>\n",
       "      <td>49490.75</td>\n",
       "    </tr>\n",
       "    <tr>\n",
       "      <th>8</th>\n",
       "      <td>108634.533784</td>\n",
       "      <td>71498.49</td>\n",
       "    </tr>\n",
       "    <tr>\n",
       "      <th>9</th>\n",
       "      <td>108634.744005</td>\n",
       "      <td>42559.73</td>\n",
       "    </tr>\n",
       "  </tbody>\n",
       "</table>\n",
       "</div>"
      ],
      "text/plain": [
       "   Predicted Profit  Actual Value\n",
       "0     108639.428004      89949.14\n",
       "1     108648.733685     132602.65\n",
       "2     108650.146601     111313.02\n",
       "3     108633.596983      97427.84\n",
       "4     108650.391750     110352.25\n",
       "5     108649.592382     191792.06\n",
       "6     108635.665146     105733.54\n",
       "7     108645.717265      49490.75\n",
       "8     108634.533784      71498.49\n",
       "9     108634.744005      42559.73"
      ]
     },
     "execution_count": 54,
     "metadata": {},
     "output_type": "execute_result"
    }
   ],
   "source": [
    "data_rfr"
   ]
  },
  {
   "cell_type": "code",
   "execution_count": 55,
   "id": "4e760b9d",
   "metadata": {},
   "outputs": [
    {
     "name": "stdout",
     "output_type": "stream",
     "text": [
      "MAE: 30662.531076895073\n",
      "MSE: 1722406880.6135666\n",
      "RMSE: 41501.89008483308\n"
     ]
    }
   ],
   "source": [
    "print('MAE:', metrics.mean_absolute_error(arr, predictions_svr))\n",
    "print('MSE:', metrics.mean_squared_error(arr, predictions_svr))\n",
    "print('RMSE:', np.sqrt(metrics.mean_squared_error(arr, predictions_svr)))"
   ]
  },
  {
   "cell_type": "markdown",
   "id": "4ba7ccca",
   "metadata": {},
   "source": [
    "# K Nearest Neighbors Regressor Model"
   ]
  },
  {
   "cell_type": "code",
   "execution_count": 56,
   "id": "19a608c8",
   "metadata": {},
   "outputs": [],
   "source": [
    "from sklearn.neighbors import KNeighborsRegressor #importing the knn regressor module from sklearn library"
   ]
  },
  {
   "cell_type": "code",
   "execution_count": 57,
   "id": "bb17db46",
   "metadata": {},
   "outputs": [],
   "source": [
    "knreg = KNeighborsRegressor(n_neighbors = 1) #instantiating the knn regressor model"
   ]
  },
  {
   "cell_type": "code",
   "execution_count": 58,
   "id": "0705c317",
   "metadata": {},
   "outputs": [
    {
     "data": {
      "text/plain": [
       "KNeighborsRegressor(n_neighbors=1)"
      ]
     },
     "execution_count": 58,
     "metadata": {},
     "output_type": "execute_result"
    }
   ],
   "source": [
    "knreg.fit(X_train, y_train) #fitting the model on our training data"
   ]
  },
  {
   "cell_type": "code",
   "execution_count": 59,
   "id": "36afd223",
   "metadata": {},
   "outputs": [],
   "source": [
    "predictions_knn = knreg.predict(X_test) #predicting the model against the test data "
   ]
  },
  {
   "cell_type": "code",
   "execution_count": 60,
   "id": "9a74e523",
   "metadata": {},
   "outputs": [
    {
     "data": {
      "text/plain": [
       "<matplotlib.collections.PathCollection at 0x25afb1ee2e0>"
      ]
     },
     "execution_count": 60,
     "metadata": {},
     "output_type": "execute_result"
    },
    {
     "data": {
      "image/png": "[encoded data removed]",
      "text/plain": [
       "<Figure size 432x288 with 1 Axes>"
      ]
     },
     "metadata": {
      "needs_background": "light"
     },
     "output_type": "display_data"
    }
   ],
   "source": [
    "plt.scatter(y_test, predictions_knn) #plotting the actual values vs predicted values"
   ]
  },
  {
   "cell_type": "markdown",
   "id": "15652ba6",
   "metadata": {},
   "source": [
    "The graph doesn't have an ideal linear orientation."
   ]
  },
  {
   "cell_type": "code",
   "execution_count": 61,
   "id": "e0059307",
   "metadata": {},
   "outputs": [],
   "source": [
    "#creating a dataframe to display the predicted profit values by ml algorithm and the actual values in our dataset\n",
    "data_knn = pd.DataFrame(data={\"Predicted Profit\": predictions_knn.flatten(), 'Actual Value':arr.flatten()})"
   ]
  },
  {
   "cell_type": "code",
   "execution_count": 62,
   "id": "9a159073",
   "metadata": {},
   "outputs": [
    {
     "data": {
      "text/html": [
       "<div>\n",
       "<style scoped>\n",
       "    .dataframe tbody tr th:only-of-type {\n",
       "        vertical-align: middle;\n",
       "    }\n",
       "\n",
       "    .dataframe tbody tr th {\n",
       "        vertical-align: top;\n",
       "    }\n",
       "\n",
       "    .dataframe thead th {\n",
       "        text-align: right;\n",
       "    }\n",
       "</style>\n",
       "<table border=\"1\" class=\"dataframe\">\n",
       "  <thead>\n",
       "    <tr style=\"text-align: right;\">\n",
       "      <th></th>\n",
       "      <th>Predicted Profit</th>\n",
       "      <th>Actual Value</th>\n",
       "    </tr>\n",
       "  </thead>\n",
       "  <tbody>\n",
       "    <tr>\n",
       "      <th>0</th>\n",
       "      <td>81229.06</td>\n",
       "      <td>89949.14</td>\n",
       "    </tr>\n",
       "    <tr>\n",
       "      <th>1</th>\n",
       "      <td>129917.04</td>\n",
       "      <td>132602.65</td>\n",
       "    </tr>\n",
       "    <tr>\n",
       "      <th>2</th>\n",
       "      <td>125370.37</td>\n",
       "      <td>111313.02</td>\n",
       "    </tr>\n",
       "    <tr>\n",
       "      <th>3</th>\n",
       "      <td>99937.59</td>\n",
       "      <td>97427.84</td>\n",
       "    </tr>\n",
       "    <tr>\n",
       "      <th>4</th>\n",
       "      <td>118474.03</td>\n",
       "      <td>110352.25</td>\n",
       "    </tr>\n",
       "    <tr>\n",
       "      <th>5</th>\n",
       "      <td>192261.83</td>\n",
       "      <td>191792.06</td>\n",
       "    </tr>\n",
       "    <tr>\n",
       "      <th>6</th>\n",
       "      <td>107404.34</td>\n",
       "      <td>105733.54</td>\n",
       "    </tr>\n",
       "    <tr>\n",
       "      <th>7</th>\n",
       "      <td>108733.99</td>\n",
       "      <td>49490.75</td>\n",
       "    </tr>\n",
       "    <tr>\n",
       "      <th>8</th>\n",
       "      <td>77798.83</td>\n",
       "      <td>71498.49</td>\n",
       "    </tr>\n",
       "    <tr>\n",
       "      <th>9</th>\n",
       "      <td>64926.08</td>\n",
       "      <td>42559.73</td>\n",
       "    </tr>\n",
       "  </tbody>\n",
       "</table>\n",
       "</div>"
      ],
      "text/plain": [
       "   Predicted Profit  Actual Value\n",
       "0          81229.06      89949.14\n",
       "1         129917.04     132602.65\n",
       "2         125370.37     111313.02\n",
       "3          99937.59      97427.84\n",
       "4         118474.03     110352.25\n",
       "5         192261.83     191792.06\n",
       "6         107404.34     105733.54\n",
       "7         108733.99      49490.75\n",
       "8          77798.83      71498.49\n",
       "9          64926.08      42559.73"
      ]
     },
     "execution_count": 62,
     "metadata": {},
     "output_type": "execute_result"
    }
   ],
   "source": [
    "data_knn"
   ]
  },
  {
   "cell_type": "code",
   "execution_count": 63,
   "id": "fea685a2",
   "metadata": {},
   "outputs": [
    {
     "name": "stdout",
     "output_type": "stream",
     "text": [
      "MAE: 12614.506999999998\n",
      "MSE: 440584517.93605006\n",
      "RMSE: 20990.105238803593\n"
     ]
    }
   ],
   "source": [
    "print('MAE:', metrics.mean_absolute_error(arr, predictions_knn))\n",
    "print('MSE:', metrics.mean_squared_error(arr, predictions_knn))\n",
    "print('RMSE:', np.sqrt(metrics.mean_squared_error(arr, predictions_knn)))"
   ]
  },
  {
   "cell_type": "code",
   "execution_count": 64,
   "id": "a42dc7be",
   "metadata": {},
   "outputs": [
    {
     "name": "stdout",
     "output_type": "stream",
     "text": [
      "The regression metrics for Multiple Linear Regression model are: \n",
      "\n",
      "\n",
      "MAE: 6066.865715986149\n",
      "MSE: 66241729.62479826\n",
      "RMSE: 8138.902237083221\n",
      "\n",
      "\n",
      "\n",
      "\n",
      "The regression metrics for Decision Tree Regression model are: \n",
      "\n",
      "\n",
      "MAE: 15236.887999999997\n",
      "MSE: 398593158.98936\n",
      "RMSE: 19964.79799520546\n",
      "\n",
      "\n",
      "\n",
      "\n",
      "The regression metrics for Random Forest Regression model are: \n",
      "\n",
      "\n",
      "MAE: 7269.390300000023\n",
      "MSE: 77025465.45913474\n",
      "RMSE: 8776.415296642173\n",
      "\n",
      "\n",
      "\n",
      "\n",
      "The regression metrics for Support Vector Machine Regression model are: \n",
      "\n",
      "\n",
      "MAE: 30662.531076895073\n",
      "MSE: 1722406880.6135666\n",
      "RMSE: 41501.89008483308\n",
      "\n",
      "\n",
      "\n",
      "\n",
      "The regression metrics for K Nearest Neighbors Regression Model are: \n",
      "\n",
      "\n",
      "MAE: 12614.506999999998\n",
      "MSE: 440584517.93605006\n",
      "RMSE: 20990.105238803593\n"
     ]
    }
   ],
   "source": [
    "#Summary for the regression metrics given by various models\n",
    "print('The regression metrics for Multiple Linear Regression model are: ')\n",
    "print('\\n')\n",
    "print('MAE:', metrics.mean_absolute_error(arr, predictions))\n",
    "print('MSE:', metrics.mean_squared_error(arr, predictions))\n",
    "print('RMSE:', np.sqrt(metrics.mean_squared_error(arr, predictions)))\n",
    "print('\\n')\n",
    "print('\\n')\n",
    "print('The regression metrics for Decision Tree Regression model are: ')\n",
    "print('\\n')\n",
    "print('MAE:', metrics.mean_absolute_error(arr, predictions_reg))\n",
    "print('MSE:', metrics.mean_squared_error(arr, predictions_reg))\n",
    "print('RMSE:', np.sqrt(metrics.mean_squared_error(arr, predictions_reg)))\n",
    "print('\\n')\n",
    "print('\\n')\n",
    "print('The regression metrics for Random Forest Regression model are: ')\n",
    "print('\\n')\n",
    "print('MAE:', metrics.mean_absolute_error(arr, predictions_rfr))\n",
    "print('MSE:', metrics.mean_squared_error(arr, predictions_rfr))\n",
    "print('RMSE:', np.sqrt(metrics.mean_squared_error(arr, predictions_rfr)))\n",
    "print('\\n')\n",
    "print('\\n')\n",
    "print('The regression metrics for Support Vector Machine Regression model are: ')\n",
    "print('\\n')\n",
    "print('MAE:', metrics.mean_absolute_error(arr, predictions_svr))\n",
    "print('MSE:', metrics.mean_squared_error(arr, predictions_svr))\n",
    "print('RMSE:', np.sqrt(metrics.mean_squared_error(arr, predictions_svr)))\n",
    "print('\\n')\n",
    "print('\\n')\n",
    "print('The regression metrics for K Nearest Neighbors Regression Model are: ')\n",
    "print('\\n')\n",
    "print('MAE:', metrics.mean_absolute_error(arr, predictions_knn))\n",
    "print('MSE:', metrics.mean_squared_error(arr, predictions_knn))\n",
    "print('RMSE:', np.sqrt(metrics.mean_squared_error(arr, predictions_knn)))\n",
    "\n",
    "\n",
    "\n"
   ]
  },
  {
   "cell_type": "markdown",
   "id": "4da8836d",
   "metadata": {},
   "source": [
    "After looking at the various plots for different machine learning models and their regression metrics values, we can say that the best performing model was the linear regression model as it had the lowest values for the regression metrics followed by the decision tree regression model. The order of performance of the various machine learning models are as follows:\n",
    "1) Multiple Linear Regression Model\n",
    "2) Random Forest Regression Model\n",
    "3) Decision Tree Regression Model\n",
    "4) K Nearest Neighbors Regression Model\n",
    "5) Support Vector Machine Regression Model"
   ]
  },
  {
   "cell_type": "code",
   "execution_count": null,
   "id": "b7249c0d",
   "metadata": {},
   "outputs": [],
   "source": []
  }
 ],
 "metadata": {
  "kernelspec": {
   "display_name": "Python 3",
   "language": "python",
   "name": "python3"
  },
  "language_info": {
   "codemirror_mode": {
    "name": "ipython",
    "version": 3
   },
   "file_extension": ".py",
   "mimetype": "text/x-python",
   "name": "python",
   "nbconvert_exporter": "python",
   "pygments_lexer": "ipython3",
   "version": "3.8.8"
  }
 },
 "nbformat": 4,
 "nbformat_minor": 5
}
